{
 "cells": [
  {
   "cell_type": "markdown",
   "id": "4c32bcb0",
   "metadata": {},
   "source": [
    "#CCT College Dublin \n",
    " \n",
    "##Assessment Cover Page \n",
    " \n",
    "|---|---|\n",
    "|Programme Title:| BSc(Hons)CompIT Year 4 |\n",
    "|Module Title:| Machine Learning for AI |\n",
    "|Assessment Title:| ML_CA1 |\n",
    "|Lecturer Name:| David McQuaid |\n",
    "|Student Full Name:| Amanda Lima Leite | \n",
    "|Student Number:| 2020304 |\n",
    "|Assessment Due Date:| 22/04/2024 |\n",
    "|Date of Submission:| 22/04/2024 |\n",
    "\n",
    "Declaration  \n",
    " \n",
    "By submitting this assessment, I confirm that I have read the CCT policy on Academic Misconduct and understand the implications of submitting work that is not my own or does not appropriately reference material taken from a third party or other source. I declare it to be my own work and that all material from third parties has been appropriately referenced. I further confirm that this work has not previously been submitted for assessment by myself or someone else in CCT College Dublin or any other higher education institution. \n"
   ]
  },
  {
   "cell_type": "code",
   "execution_count": null,
   "id": "72cda419",
   "metadata": {},
   "outputs": [],
   "source": []
  },
  {
   "cell_type": "code",
   "execution_count": null,
   "id": "3dc5123b",
   "metadata": {},
   "outputs": [],
   "source": []
  }
 ],
 "metadata": {
  "kernelspec": {
   "display_name": "Python 3 (ipykernel)",
   "language": "python",
   "name": "python3"
  },
  "language_info": {
   "codemirror_mode": {
    "name": "ipython",
    "version": 3
   },
   "file_extension": ".py",
   "mimetype": "text/x-python",
   "name": "python",
   "nbconvert_exporter": "python",
   "pygments_lexer": "ipython3",
   "version": "3.9.12"
  }
 },
 "nbformat": 4,
 "nbformat_minor": 5
}
